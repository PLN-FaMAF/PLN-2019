{
 "cells": [
  {
   "cell_type": "markdown",
   "metadata": {},
   "source": [
    "# Etiquetado de Secuencias Parte 3\n",
    "\n",
    "\n",
    "## Historias\n",
    "\n",
    "- [Definición de *history* (p. 4)](http://www.cs.columbia.edu/~mcollins/fall2014-loglineartaggers.pdf) (notas de Michael Collins sobre MEMMs)\n",
    "\n",
    "Para etiquetar una secuencia reducimos este problema a un problema de clasificación. Una historia es una instancia de clasificación, que es una tupla con los siguientes elementos:\n",
    "\n",
    "- `sent`: La oración entera.\n",
    "- `prev_tags`: Una tupla con las `n` etiquetas anteriores\n",
    "- `i`: El índice de la palabra a etiquetar."
   ]
  },
  {
   "cell_type": "code",
   "execution_count": 54,
   "metadata": {},
   "outputs": [
    {
     "data": {
      "text/plain": [
       "('D',)"
      ]
     },
     "execution_count": 54,
     "metadata": {},
     "output_type": "execute_result"
    }
   ],
   "source": [
    "from collections import namedtuple\n",
    "History = namedtuple('History', 'sent prev_tags i')\n",
    "\n",
    "h = History('el gato'.split(), ('D',), 1)\n",
    "h.prev_tags"
   ]
  },
  {
   "cell_type": "markdown",
   "metadata": {},
   "source": [
    "Por ejemplo, para la oración \"El gato come pescado .\" con `n = 2` tenemos las siguientes historias válidas:"
   ]
  },
  {
   "cell_type": "code",
   "execution_count": 56,
   "metadata": {},
   "outputs": [
    {
     "data": {
      "text/plain": [
       "[History(sent=['El', 'gato', 'come', 'pescado', '.'], prev_tags=('<s>', '<s>'), i=0),\n",
       " History(sent=['El', 'gato', 'come', 'pescado', '.'], prev_tags=('<s>', 'D'), i=1),\n",
       " History(sent=['El', 'gato', 'come', 'pescado', '.'], prev_tags=('D', 'N'), i=2),\n",
       " History(sent=['El', 'gato', 'come', 'pescado', '.'], prev_tags=('N', 'V'), i=3),\n",
       " History(sent=['El', 'gato', 'come', 'pescado', '.'], prev_tags=('V', 'N'), i=4)]"
      ]
     },
     "execution_count": 56,
     "metadata": {},
     "output_type": "execute_result"
    }
   ],
   "source": [
    "sent = 'El gato come pescado .'.split()\n",
    "sent_tags = 'D N V N P'.split()\n",
    "histories = [\n",
    "    History(sent, ('<s>', '<s>'), 0),\n",
    "    History(sent, ('<s>', 'D'), 1),\n",
    "    History(sent, ('D', 'N'), 2),\n",
    "    History(sent, ('N', 'V'), 3),\n",
    "    History(sent, ('V', 'N'), 4)\n",
    "]\n",
    "histories"
   ]
  },
  {
   "cell_type": "markdown",
   "metadata": {},
   "source": [
    "## Features básicos\n",
    "\n",
    "- http://feature-forge.readthedocs.org/en/latest/feature_definition.html#the-basics\n",
    "\n",
    "Para cada instancia de clasificación (historias) debemos calcular un conjunto de características relevantes (*features*) para la clasificación.\n",
    "\n",
    "Por ejemplo, podemos usar como feature la palabra a etiquetar en minúsculas (un feature de tipo string):"
   ]
  },
  {
   "cell_type": "code",
   "execution_count": 57,
   "metadata": {},
   "outputs": [
    {
     "data": {
      "text/plain": [
       "['el', 'gato', 'come', 'pescado', '.']"
      ]
     },
     "execution_count": 57,
     "metadata": {},
     "output_type": "execute_result"
    }
   ],
   "source": [
    "def word_lower(h):\n",
    "    \"\"\"Feature: current lowercased word.\n",
    "    \n",
    "    h -- a history.\n",
    "    \"\"\"\n",
    "    sent, i = h.sent, h.i\n",
    "    return sent[i].lower()\n",
    "\n",
    "[word_lower(h) for h in histories]"
   ]
  },
  {
   "cell_type": "markdown",
   "metadata": {},
   "source": [
    "También podemos usar como feature si la palabra comienza con mayúsculas o no (un feature de tipo booleano):"
   ]
  },
  {
   "cell_type": "code",
   "execution_count": 58,
   "metadata": {},
   "outputs": [
    {
     "data": {
      "text/plain": [
       "[True, False, False, False, False]"
      ]
     },
     "execution_count": 58,
     "metadata": {},
     "output_type": "execute_result"
    }
   ],
   "source": [
    "def word_istitle(h):\n",
    "    \"\"\"Feature: is the current word titlecased?\n",
    "    \n",
    "    h -- a history.\n",
    "    \"\"\"\n",
    "    sent, i = h.sent, h.i\n",
    "    return sent[i].istitle()\n",
    "\n",
    "[word_istitle(h) for h in histories]"
   ]
  },
  {
   "cell_type": "markdown",
   "metadata": {},
   "source": [
    "## Vectorización\n",
    "\n",
    "- http://feature-forge.readthedocs.org/en/latest/feature_evaluation.html#basic-usage\n",
    "\n",
    "Para usar los features que definimos debemos construir un vectorizador, que convierta los valores de los features en entradas en una matriz:"
   ]
  },
  {
   "cell_type": "code",
   "execution_count": 60,
   "metadata": {},
   "outputs": [],
   "source": [
    "from featureforge.vectorizer import Vectorizer\n",
    "\n",
    "features = [word_lower, word_istitle]\n",
    "vect = Vectorizer(features)"
   ]
  },
  {
   "cell_type": "markdown",
   "metadata": {},
   "source": [
    "Como cualquier componente de scikit-learn, el vectorizador debe entrenarse para definir los features concretos y el mapeo a columnas de una matriz:"
   ]
  },
  {
   "cell_type": "code",
   "execution_count": 61,
   "metadata": {},
   "outputs": [
    {
     "data": {
      "text/plain": [
       "<featureforge.vectorizer.Vectorizer at 0x7f7d25679c50>"
      ]
     },
     "execution_count": 61,
     "metadata": {},
     "output_type": "execute_result"
    }
   ],
   "source": [
    "vect.fit(histories)"
   ]
  },
  {
   "cell_type": "markdown",
   "metadata": {},
   "source": [
    "Luego podemos vectorizar cualquier historia, como por ejemplo la que corresponde a etiquetar la primer palabra de la oración \"Come salmón el mormón .\"."
   ]
  },
  {
   "cell_type": "code",
   "execution_count": 63,
   "metadata": {},
   "outputs": [
    {
     "data": {
      "text/plain": [
       "array([[1., 0., 0., 1., 0., 0.]])"
      ]
     },
     "execution_count": 63,
     "metadata": {},
     "output_type": "execute_result"
    }
   ],
   "source": [
    "h = History('Come salmón el mormón .'.split(), ('<s>', '<s>'), 0)\n",
    "m = vect.transform([h])\n",
    "m.toarray()"
   ]
  },
  {
   "cell_type": "markdown",
   "metadata": {},
   "source": [
    "Los features activos son el de la columna 0 y el de la columna 3. Podemos ver qué significa cada uno de ellos:"
   ]
  },
  {
   "cell_type": "code",
   "execution_count": 74,
   "metadata": {},
   "outputs": [
    {
     "data": {
      "text/plain": [
       "(<featureforge.feature.Feature at 0x7f7d25679cc0>, 'come')"
      ]
     },
     "execution_count": 74,
     "metadata": {},
     "output_type": "execute_result"
    }
   ],
   "source": [
    "feature0 = vect.column_to_feature(0)[0]\n",
    "feature0._name  # nombre del feature\n",
    "\n",
    "feature3 = vect.column_to_feature(3)[0]\n",
    "feature3._name  # nombre del feature\n",
    "vect.column_to_feature(3)  # valor del feature (si no es booleano)"
   ]
  },
  {
   "cell_type": "markdown",
   "metadata": {},
   "source": [
    "La columna 0 indica que la palabra comienza en mayúsculas, mientras que la columna 3 indica que la palabra en minúsculas es \"come\"."
   ]
  },
  {
   "cell_type": "markdown",
   "metadata": {},
   "source": [
    "## Features Paramétricos\n",
    "\n",
    "- http://feature-forge.readthedocs.org/en/latest/feature_definition.html#advanced-feature-definition\n",
    "\n",
    "Algunos features pueden tener parámetros que permitan diferentes instanciaciones. Estos features se pueden definir como subclases de la clase `Feature`. Por ejemplo, podemos definir un feature booleano que indica si una palabra es más larga que un número dado:"
   ]
  },
  {
   "cell_type": "code",
   "execution_count": 17,
   "metadata": {},
   "outputs": [],
   "source": [
    "from featureforge.feature import Feature\n",
    "\n",
    "\n",
    "class WordLongerThan(Feature):\n",
    "\n",
    "    def __init__(self, n):\n",
    "        self.n = n\n",
    "        self._name = 'word_longer_than_{}'.format(n)\n",
    "\n",
    "    def _evaluate(self, h):\n",
    "        \"\"\"Feature: is the current word longer than n?\n",
    "\n",
    "        h -- a history.\n",
    "        \"\"\"\n",
    "        sent, i = h.sent, h.i\n",
    "        return len(sent[i]) > self.n"
   ]
  },
  {
   "cell_type": "markdown",
   "metadata": {},
   "source": [
    "Una vez definido, podemos instanciar el feature con un valor particular:"
   ]
  },
  {
   "cell_type": "code",
   "execution_count": 75,
   "metadata": {},
   "outputs": [],
   "source": [
    "word_longer_than_two = WordLongerThan(2)"
   ]
  },
  {
   "cell_type": "markdown",
   "metadata": {},
   "source": [
    "Luego, podemos usarlo como un feature normal, por ejemplo evaluándolo sobre las historias o incluyéndolo en un vectorizador. Por ejemplo, lo evaluamos para las historias correspondientes a la oración \"El gato come pescado.\":"
   ]
  },
  {
   "cell_type": "code",
   "execution_count": 76,
   "metadata": {},
   "outputs": [
    {
     "data": {
      "text/plain": [
       "[('El', False),\n",
       " ('gato', True),\n",
       " ('come', True),\n",
       " ('pescado', True),\n",
       " ('.', False)]"
      ]
     },
     "execution_count": 76,
     "metadata": {},
     "output_type": "execute_result"
    }
   ],
   "source": [
    "list(zip('El gato come pescado .'.split(), [word_longer_than_two(h) for h in histories]))"
   ]
  },
  {
   "cell_type": "markdown",
   "metadata": {},
   "source": [
    "También podemos agregar el feature al vectorizador:"
   ]
  },
  {
   "cell_type": "code",
   "execution_count": 20,
   "metadata": {},
   "outputs": [
    {
     "data": {
      "text/plain": [
       "array([[1., 1., 0., 0., 1., 0., 0.]])"
      ]
     },
     "execution_count": 20,
     "metadata": {},
     "output_type": "execute_result"
    }
   ],
   "source": [
    "features = [word_lower, word_istitle, word_longer_than_two]\n",
    "vect = Vectorizer(features)\n",
    "vect.fit(histories)\n",
    "h = History('Come salmón el mormón .'.split(), ('<s>', '<s>'), 0)\n",
    "m = vect.transform([h])\n",
    "m.toarray()"
   ]
  },
  {
   "cell_type": "markdown",
   "metadata": {},
   "source": [
    "En este caso la segunda columna corresponde al nuevo feature:"
   ]
  },
  {
   "cell_type": "code",
   "execution_count": 21,
   "metadata": {},
   "outputs": [
    {
     "data": {
      "text/plain": [
       "'word_longer_than_2'"
      ]
     },
     "execution_count": 21,
     "metadata": {},
     "output_type": "execute_result"
    }
   ],
   "source": [
    "vect.column_to_feature(1)[0]._name"
   ]
  },
  {
   "cell_type": "markdown",
   "metadata": {},
   "source": [
    "## Clasificadores y Pipelines\n",
    "\n",
    "Construimos un pipeline que se conforma del vectorizador y un clasificador:"
   ]
  },
  {
   "cell_type": "code",
   "execution_count": 78,
   "metadata": {},
   "outputs": [],
   "source": [
    "from sklearn.pipeline import Pipeline\n",
    "from sklearn.naive_bayes import MultinomialNB\n",
    "\n",
    "clf = MultinomialNB()  # probar acá otros clasificadores!\n",
    "pipeline = Pipeline([\n",
    "    ('vect', vect),\n",
    "    ('clf', clf)\n",
    "])"
   ]
  },
  {
   "cell_type": "markdown",
   "metadata": {},
   "source": [
    "Entrenamos el pipeline con datos supervisados:"
   ]
  },
  {
   "cell_type": "code",
   "execution_count": 79,
   "metadata": {},
   "outputs": [
    {
     "data": {
      "text/plain": [
       "Pipeline(memory=None,\n",
       "     steps=[('vect', <featureforge.vectorizer.Vectorizer object at 0x7f7d25679c50>), ('clf', MultinomialNB(alpha=1.0, class_prior=None, fit_prior=True))])"
      ]
     },
     "execution_count": 79,
     "metadata": {},
     "output_type": "execute_result"
    }
   ],
   "source": [
    "sent1 = 'El gato come pescado .'.split()\n",
    "sent2 = 'La gata come salmón .'.split()\n",
    "histories = [\n",
    "    History(sent1, ('<s>', '<s>'), 0),\n",
    "    History(sent1, ('<s>', 'D'), 1),\n",
    "    History(sent1, ('D', 'N'), 2),\n",
    "    History(sent1, ('N', 'V'), 3),\n",
    "    History(sent1, ('V', 'N'), 4),\n",
    "    History(sent2, ('<s>', '<s>'), 0),\n",
    "    History(sent2, ('<s>', 'D'), 1),\n",
    "    History(sent2, ('D', 'N'), 2),\n",
    "    History(sent2, ('N', 'V'), 3),\n",
    "    History(sent2, ('V', 'N'), 4)\n",
    "]\n",
    "labels = 'D N V N P'.split() + 'D N V N P'.split()\n",
    "\n",
    "pipeline.fit(histories, labels)"
   ]
  },
  {
   "cell_type": "markdown",
   "metadata": {},
   "source": [
    "Ahora ya podemos etiquetar nuevas oraciones usando la función predict:"
   ]
  },
  {
   "cell_type": "code",
   "execution_count": 90,
   "metadata": {},
   "outputs": [
    {
     "name": "stdout",
     "output_type": "stream",
     "text": [
      "El D\n",
      "gato N\n",
      "come V\n",
      "salmón N\n",
      ". P\n"
     ]
    }
   ],
   "source": [
    "\n",
    "# h = History('el ñandú come ñoquis'.split(), ('D', 'N'), 2)\n",
    "#tag = pipeline.predict([h])\n",
    "#print(tag)\n",
    "\n",
    "new_sent = 'El gato come salmón .'.split()\n",
    "\n",
    "prev = ('<s>', '<s>')\n",
    "for i, w in enumerate(new_sent):\n",
    "    h = History(new_sent, prev, i)\n",
    "    tag = pipeline.predict([h])[0]\n",
    "    print(w, tag)\n",
    "    prev = (prev + (tag,))[1:]"
   ]
  }
 ],
 "metadata": {
  "kernelspec": {
   "display_name": "Python 3",
   "language": "python",
   "name": "python3"
  },
  "language_info": {
   "codemirror_mode": {
    "name": "ipython",
    "version": 3
   },
   "file_extension": ".py",
   "mimetype": "text/x-python",
   "name": "python",
   "nbconvert_exporter": "python",
   "pygments_lexer": "ipython3",
   "version": "3.6.5"
  }
 },
 "nbformat": 4,
 "nbformat_minor": 2
}
