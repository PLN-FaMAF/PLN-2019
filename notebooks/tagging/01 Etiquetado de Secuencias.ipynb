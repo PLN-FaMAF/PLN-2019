{
 "cells": [
  {
   "cell_type": "markdown",
   "metadata": {},
   "source": [
    "# Etiquetado de Secuencias\n",
    "\n",
    "## Estadísticas de Etiquetas\n",
    "\n",
    "Hagamos estadísticas sobre un corpus etiquetado de juguete:"
   ]
  },
  {
   "cell_type": "code",
   "execution_count": 2,
   "metadata": {},
   "outputs": [],
   "source": [
    "tagged_sents = [\n",
    "    [('el', 'D'), ('gato', 'N'), ('come', 'V'), ('pescado', 'N'), ('.', 'P')],\n",
    "    [('la', 'D'), ('gata', 'N'), ('come', 'V'), ('salmón', 'N'), ('.', 'P')],\n",
    "]"
   ]
  },
  {
   "cell_type": "markdown",
   "metadata": {},
   "source": [
    "Calculemos, para cada POS tag posible, la frecuencia de cada palabra. **El resultado debería ser el siguiente diccionario de diccionarios:**"
   ]
  },
  {
   "cell_type": "code",
   "execution_count": 4,
   "metadata": {},
   "outputs": [],
   "source": [
    "tag_word_dict = {\n",
    "    'D': {'el': 1, 'la': 1},\n",
    "    'N': {'salmón': 1, 'gata': 1, 'gato': 1, 'pescado': 1},\n",
    "    'V': {'come': 2},\n",
    "    'P': {'.': 2},\n",
    "}"
   ]
  },
  {
   "cell_type": "markdown",
   "metadata": {},
   "source": [
    "Esto se puede resolver así usando el tipo básico de diccionario:"
   ]
  },
  {
   "cell_type": "code",
   "execution_count": 8,
   "metadata": {},
   "outputs": [
    {
     "name": "stdout",
     "output_type": "stream",
     "text": [
      "{'D': {'el': 1, 'la': 1}, 'P': {'.': 2}, 'V': {'come': 2}, 'N': {'gato': 1, 'gata': 1, 'pescado': 1, 'salmón': 1}}\n"
     ]
    }
   ],
   "source": [
    "tag_word_dict = {}\n",
    "\n",
    "for sent in tagged_sents:\n",
    "    for word, tag in sent:\n",
    "        if tag not in tag_word_dict:\n",
    "            # primera vez que veo este tag. crear nueva entrada en el diccionario.\n",
    "            tag_word_dict[tag] = {}\n",
    "        if word not in tag_word_dict[tag]:\n",
    "            # primera vez que aparece esta word con este tag. crear nueva entrada en el subdiccionario.\n",
    "            tag_word_dict[tag][word] = 0\n",
    "        # contar la palabra:\n",
    "        tag_word_dict[tag][word] += 1\n",
    "\n",
    "print(tag_word_dict)"
   ]
  },
  {
   "cell_type": "markdown",
   "metadata": {},
   "source": [
    "El código es un poco feo por los casos en los que hay que agregar nuevas entradas en los diccionarios.\n",
    "Usando defaultdicts esto sale mucho más lindo:"
   ]
  },
  {
   "cell_type": "code",
   "execution_count": 14,
   "metadata": {},
   "outputs": [
    {
     "name": "stdout",
     "output_type": "stream",
     "text": [
      "{'D': defaultdict(<class 'int'>, {'el': 1, 'la': 1}), 'N': defaultdict(<class 'int'>, {'gato': 1, 'gata': 1, 'pescado': 1, 'salmón': 1}), 'V': defaultdict(<class 'int'>, {'come': 2}), 'P': defaultdict(<class 'int'>, {'.': 2})}\n"
     ]
    }
   ],
   "source": [
    "from collections import defaultdict\n",
    "tag_word_dict = defaultdict(lambda: defaultdict(int))\n",
    "\n",
    "for sent in tagged_sents:\n",
    "    for word, tag in sent:\n",
    "        # contar la palabra:\n",
    "        tag_word_dict[tag][word] += 1\n",
    "\n",
    "tag_word_dict = dict(tag_word_dict)  # convertir de vuelta a diccionario\n",
    "print(tag_word_dict)"
   ]
  },
  {
   "cell_type": "markdown",
   "metadata": {},
   "source": [
    "Nota: los diccionarios de adentro quedaron todos de tipo defaultdict pero eso no es problema."
   ]
  },
  {
   "cell_type": "markdown",
   "metadata": {},
   "source": [
    "### Estadísticas de Palabras y Niveles de Ambigüedad\n",
    "\n",
    "También nos interesa calcular un diccionario que me diga cuántos tags posibles tiene cada palabra.\n",
    "Para eso usemos un corpus de juguete que tenga ambigüedades:"
   ]
  },
  {
   "cell_type": "code",
   "execution_count": 3,
   "metadata": {},
   "outputs": [],
   "source": [
    "tagged_sents = [\n",
    "    [('una', 'Num'), ('llama', 'Nom'), ('detenida', 'Adj')],\n",
    "    [('la', 'Det'), ('detenida', 'Nom'), ('escapó', 'Verb')],\n",
    "    [('fue', 'Verb'), ('detenida', 'Verb'), ('ayer', 'Adv')],\n",
    "    [('llama', 'Verb'), ('la', 'Det'), ('atención', 'Nom')],\n",
    "]"
   ]
  },
  {
   "cell_type": "markdown",
   "metadata": {},
   "source": [
    "**El resultado debería ser el siguiente diccionario de conjuntos:**"
   ]
  },
  {
   "cell_type": "code",
   "execution_count": 4,
   "metadata": {},
   "outputs": [],
   "source": [
    "word_tags = {\n",
    "    'la': {'Det'},\n",
    "    'una': {'Num'},\n",
    "    'detenida': {'Nom', 'Verb', 'Adj'},\n",
    "    'fue': {'Verb'},\n",
    "    'llama': {'Nom', 'Verb'},\n",
    "    'atención': {'Nom'},\n",
    "    'ayer': {'Adv'},\n",
    "    'escapó': {'Verb'}\n",
    "}"
   ]
  },
  {
   "cell_type": "markdown",
   "metadata": {},
   "source": [
    "Usando diccionarios básicos:"
   ]
  },
  {
   "cell_type": "code",
   "execution_count": 5,
   "metadata": {},
   "outputs": [
    {
     "name": "stdout",
     "output_type": "stream",
     "text": [
      "{'ayer': {'Adv'}, 'detenida': {'Nom', 'Verb', 'Adj'}, 'una': {'Num'}, 'la': {'Det'}, 'escapó': {'Verb'}, 'llama': {'Nom', 'Verb'}, 'atención': {'Nom'}, 'fue': {'Verb'}}\n"
     ]
    }
   ],
   "source": [
    "word_tags = {}\n",
    "\n",
    "for sent in tagged_sents:\n",
    "    for word, tag in sent:\n",
    "        if word not in word_tags:\n",
    "            # primera vez que veo esta word. crear nueva entrada en el diccionario.\n",
    "            word_tags[word] = set()\n",
    "        word_tags[word].add(tag)\n",
    "\n",
    "print(word_tags)"
   ]
  },
  {
   "cell_type": "markdown",
   "metadata": {},
   "source": [
    "También sale más corto con defaultdicts. Esta vez, defaultdict de conjuntos:"
   ]
  },
  {
   "cell_type": "code",
   "execution_count": 6,
   "metadata": {},
   "outputs": [
    {
     "name": "stdout",
     "output_type": "stream",
     "text": [
      "{'detenida': {'Nom', 'Verb', 'Adj'}, 'una': {'Num'}, 'la': {'Det'}, 'escapó': {'Verb'}, 'ayer': {'Adv'}, 'llama': {'Nom', 'Verb'}, 'atención': {'Nom'}, 'fue': {'Verb'}}\n"
     ]
    }
   ],
   "source": [
    "from collections import defaultdict\n",
    "\n",
    "word_tags = defaultdict(set)\n",
    "\n",
    "for sent in tagged_sents:\n",
    "    for word, tag in sent:\n",
    "        word_tags[word].add(tag)\n",
    "\n",
    "word_tags = dict(word_tags)  # convertir de vuelta a diccionario\n",
    "print(word_tags)"
   ]
  },
  {
   "cell_type": "markdown",
   "metadata": {},
   "source": [
    "A partir de este diccionario es fácil calcular los niveles de ambigüedad. Por ejemplo, para el nivel 3:"
   ]
  },
  {
   "cell_type": "code",
   "execution_count": 9,
   "metadata": {},
   "outputs": [
    {
     "name": "stdout",
     "output_type": "stream",
     "text": [
      "Nivel 3: {'detenida'}\n"
     ]
    }
   ],
   "source": [
    "level = 3\n",
    "\n",
    "words = set()\n",
    "\n",
    "for word, tags in word_tags.items():\n",
    "    if len(tags) == level:\n",
    "        words.add(word)\n",
    "\n",
    "print('Nivel {}:'.format(level), words)"
   ]
  }
 ],
 "metadata": {
  "kernelspec": {
   "display_name": "Python 3",
   "language": "python",
   "name": "python3"
  },
  "language_info": {
   "codemirror_mode": {
    "name": "ipython",
    "version": 3
   },
   "file_extension": ".py",
   "mimetype": "text/x-python",
   "name": "python",
   "nbconvert_exporter": "python",
   "pygments_lexer": "ipython3",
   "version": "3.6.5"
  }
 },
 "nbformat": 4,
 "nbformat_minor": 2
}
