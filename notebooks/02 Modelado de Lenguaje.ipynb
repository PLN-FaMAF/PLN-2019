{
 "cells": [
  {
   "cell_type": "markdown",
   "metadata": {},
   "source": [
    "# Contando N-Gramas"
   ]
  },
  {
   "cell_type": "code",
   "execution_count": 1,
   "metadata": {},
   "outputs": [],
   "source": [
    "from nltk.corpus import gutenberg\n",
    "sents = list(gutenberg.sents('austen-emma.txt'))"
   ]
  },
  {
   "cell_type": "markdown",
   "metadata": {},
   "source": [
    "Primero vemos cómo imprimir todos los trigramas de una sola oración:"
   ]
  },
  {
   "cell_type": "code",
   "execution_count": 2,
   "metadata": {},
   "outputs": [
    {
     "name": "stdout",
     "output_type": "stream",
     "text": [
      "['[', 'Emma', 'by']\n",
      "['Emma', 'by', 'Jane']\n",
      "['by', 'Jane', 'Austen']\n",
      "['Jane', 'Austen', '1816']\n",
      "['Austen', '1816', ']']\n"
     ]
    }
   ],
   "source": [
    "sent = sents[0]\n",
    "\n",
    "n = 3  # trigramas\n",
    "for i in range(len(sent) - n + 1):\n",
    "    print(sent[i:i+n])"
   ]
  },
  {
   "cell_type": "markdown",
   "metadata": {},
   "source": [
    "Ahora veamos cómo contar los trigramas de todas las oraciones:"
   ]
  },
  {
   "cell_type": "code",
   "execution_count": 13,
   "metadata": {},
   "outputs": [],
   "source": [
    "from collections import defaultdict\n",
    "\n",
    "count = defaultdict(int)\n",
    "\n",
    "for sent in sents:\n",
    "    for i in range(len(sent) - n + 1):\n",
    "        ngram = tuple(sent[i:i+n])  # los diccionarios no pueden guardar listas, pero sí tuplas\n",
    "        count[ngram] += 1"
   ]
  },
  {
   "cell_type": "code",
   "execution_count": 91,
   "metadata": {},
   "outputs": [],
   "source": [
    "# count"
   ]
  },
  {
   "cell_type": "markdown",
   "metadata": {},
   "source": [
    "El código sirve para n-gramas en general.\n",
    "\n",
    "Tareas pendientes:\n",
    "- Agregar marcadores de principio y final de oración\n",
    "- Contar n-gramas y (n-1)-gramas al mismo tiempo."
   ]
  },
  {
   "cell_type": "markdown",
   "metadata": {},
   "source": [
    "# Generando Lenguaje Natural\n",
    "\n",
    "El siguiente modelo de bigramas se aprende a partir de dos oraciones:\n",
    "- \"el gato come pescado\"\n",
    "- \"la gata come salmón\"\n"
   ]
  },
  {
   "cell_type": "code",
   "execution_count": 78,
   "metadata": {},
   "outputs": [
    {
     "data": {
      "text/plain": [
       "[('la', 0.5), ('el', 0.5)]"
      ]
     },
     "execution_count": 78,
     "metadata": {},
     "output_type": "execute_result"
    }
   ],
   "source": [
    "probs = {\n",
    "    '<s>': {'el': 0.5, 'la': 0.5},\n",
    "    # '<s>': {'el': 0.6, 'la': 0.2, 'los': 0.1, 'las': 0.1},\n",
    "    'el': {'gato': 1.0},\n",
    "    'gato': {'come': 1.0},\n",
    "    'come': {'pescado': 0.5, 'salmón': 0.5},\n",
    "    'pescado': {'.': 1.0},\n",
    "    '.': {'</s>': 1.0},\n",
    "    'la': {'gata': 1.0},\n",
    "    'gata': {'come': 1.0},\n",
    "    'salmón': {'.': 1.0},\n",
    "}\n",
    "\n",
    "list(probs['<s>'].items())  # convertir un diccionario a lista de pares"
   ]
  },
  {
   "cell_type": "markdown",
   "metadata": {},
   "source": [
    "Cada entrada del diccionario contiene una distribución discreta finita para la palabra siguiente dada la palabra anterior. Samplear de una distribución discreta finita es tan fácil como samplear un número al azar entre 0 y 1 y ver en qué región cae (ver [Wikipedia](https://en.wikipedia.org/wiki/Pseudo-random_number_sampling#Finite_discrete_distributions)).\n",
    "\n",
    "Empezamos sampleando la primer palabra:"
   ]
  },
  {
   "cell_type": "code",
   "execution_count": 88,
   "metadata": {},
   "outputs": [
    {
     "data": {
      "text/plain": [
       "'la'"
      ]
     },
     "execution_count": 88,
     "metadata": {},
     "output_type": "execute_result"
    }
   ],
   "source": [
    "from random import random\n",
    "\n",
    "def sample(problist):\n",
    "    r = random()  # entre 0 y 1\n",
    "    i = 0\n",
    "    word, prob = problist[0]\n",
    "    acum = prob\n",
    "    while r > acum:\n",
    "        i += 1\n",
    "        word, prob = problist[i]\n",
    "        acum += prob\n",
    "    \n",
    "    return word\n",
    "\n",
    "sample(list(probs['<s>'].items()))"
   ]
  },
  {
   "cell_type": "markdown",
   "metadata": {},
   "source": [
    "Podemos ver que el resultado del sampleo se corresponde con las probabilidades:"
   ]
  },
  {
   "cell_type": "code",
   "execution_count": 90,
   "metadata": {},
   "outputs": [
    {
     "name": "stdout",
     "output_type": "stream",
     "text": [
      "Counter({'el': 505, 'la': 495})\n"
     ]
    }
   ],
   "source": [
    "results = [sample(list(probs['<s>'].items())) for i in range(1000)]\n",
    "\n",
    "from collections import Counter\n",
    "print(Counter(results))"
   ]
  },
  {
   "cell_type": "markdown",
   "metadata": {},
   "source": [
    "**Observaciones:**\n",
    "- Si se ordena la lista de probabilidades de mayor a menor, el sampling es más rápido.\n",
    "- El sampling también se puede hacer usando [random.choices](https://docs.python.org/3/library/random.html#random.choices) de python\n",
    "ó [random.choice](https://stackoverflow.com/questions/11373192/generating-discrete-random-variables-with-specified-weights-using-scipy-or-numpy) de numpy.\n",
    "\n",
    "Ahora veamos cómo samplear una oración completa:"
   ]
  },
  {
   "cell_type": "code",
   "execution_count": 112,
   "metadata": {},
   "outputs": [
    {
     "name": "stdout",
     "output_type": "stream",
     "text": [
      "la\n",
      "gata\n",
      "come\n",
      "pescado\n",
      ".\n",
      "</s>\n"
     ]
    }
   ],
   "source": [
    "word = '<s>'\n",
    "while word != '</s>':\n",
    "    problist = list(probs[word].items())\n",
    "    word = sample(problist)\n",
    "    print(word)"
   ]
  },
  {
   "cell_type": "markdown",
   "metadata": {},
   "source": [
    "Acá se ve que se pueden generar oraciones nuevas (no vistas en tiempo de entrenamiento).\n",
    "\n",
    "Tareas pendientes:\n",
    "- adaptar el código a n-gramas en general: usar tuplas como claves en probs!\n",
    "- precalcular las listas ordenadas de mayor a menor (ver sorted_prob en los tests)"
   ]
  }
 ],
 "metadata": {
  "kernelspec": {
   "display_name": "Python 3",
   "language": "python",
   "name": "python3"
  },
  "language_info": {
   "codemirror_mode": {
    "name": "ipython",
    "version": 3
   },
   "file_extension": ".py",
   "mimetype": "text/x-python",
   "name": "python",
   "nbconvert_exporter": "python",
   "pygments_lexer": "ipython3",
   "version": "3.5.2"
  }
 },
 "nbformat": 4,
 "nbformat_minor": 2
}
