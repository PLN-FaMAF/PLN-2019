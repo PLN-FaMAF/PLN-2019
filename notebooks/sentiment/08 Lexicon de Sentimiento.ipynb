{
 "cells": [
  {
   "cell_type": "markdown",
   "metadata": {},
   "source": [
    "# Sentiment Analysis: Sentiment Lexicon\n",
    "\n",
    "La idea es incorporar información externa acerca de la presencia de palabras positivas y negativas.\n",
    "\n",
    "Opciones:\n",
    "1. sustituir las palabras por marcadores especiales POS y NEG.\n",
    "2. agregar nuevos features numéricos que indiquen la presencia/cantidad de POS y NEG.\n",
    "\n",
    "Vamos por la 2.\n",
    "\n",
    "\n",
    "Usamos:\n",
    "- https://mpqa.cs.pitt.edu/lexicons/subj_lexicon/\n"
   ]
  },
  {
   "cell_type": "code",
   "execution_count": 1,
   "metadata": {},
   "outputs": [],
   "source": [
    "%load_ext autoreload\n",
    "%autoreload 2"
   ]
  },
  {
   "cell_type": "code",
   "execution_count": 2,
   "metadata": {},
   "outputs": [],
   "source": [
    "from util import load_datasets\n",
    "train, dev, test = load_datasets()\n",
    "X_train, y_train = train\n",
    "X_dev, y_dev = dev\n",
    "X_test, y_test = test"
   ]
  },
  {
   "cell_type": "markdown",
   "metadata": {},
   "source": [
    "## Estado del Arte Actual"
   ]
  },
  {
   "cell_type": "code",
   "execution_count": 114,
   "metadata": {},
   "outputs": [
    {
     "name": "stdout",
     "output_type": "stream",
     "text": [
      "accuracy\t0.89\n",
      "\n",
      "             precision    recall  f1-score   support\n",
      "\n",
      "        neg       0.87      0.93      0.90       162\n",
      "        pos       0.91      0.84      0.87       138\n",
      "\n",
      "avg / total       0.89      0.89      0.89       300\n",
      "\n",
      "[[150  12]\n",
      " [ 22 116]]\n"
     ]
    }
   ],
   "source": [
    "from model import build_pipeline\n",
    "from util import print_eval\n",
    "\n",
    "pipeline = build_pipeline()\n",
    "pipeline.fit(X_train, y_train)\n",
    "print_eval(pipeline, X_dev, y_dev)"
   ]
  },
  {
   "cell_type": "markdown",
   "metadata": {},
   "source": [
    "## Carga del Lexicón"
   ]
  },
  {
   "cell_type": "code",
   "execution_count": 12,
   "metadata": {},
   "outputs": [],
   "source": [
    "filename = 'subjectivity_clues_hltemnlp05/subjclueslen1-HLTEMNLP05.tff'\n",
    "f = open(filename)\n",
    "lines = f.readlines()\n",
    "f.close()"
   ]
  },
  {
   "cell_type": "code",
   "execution_count": 91,
   "metadata": {},
   "outputs": [],
   "source": [
    "words = []\n",
    "for line in lines:\n",
    "    sline = line.split()\n",
    "    dline = dict([token.split('=') for token in sline if '=' in token])\n",
    "    word = dline['word1']\n",
    "    pol = dline['priorpolarity']\n",
    "    if pol not in {'both', 'neutral'}:\n",
    "        if pol in {'negative', 'weakneg'}:\n",
    "            pol = 'NEG'\n",
    "        else:\n",
    "            pol = 'POS'\n",
    "        words.append((word, pol))\n",
    "\n",
    "word_dict = dict(words)"
   ]
  },
  {
   "cell_type": "markdown",
   "metadata": {},
   "source": [
    "## Nuevo Tokenizer"
   ]
  },
  {
   "cell_type": "code",
   "execution_count": 94,
   "metadata": {},
   "outputs": [],
   "source": [
    "tkn = CountVectorizer().build_tokenizer()\n",
    "def my_tkn(s):\n",
    "    tokens = tkn(s)\n",
    "    return [word_dict.get(token, token) for token in tokens]"
   ]
  },
  {
   "cell_type": "code",
   "execution_count": 69,
   "metadata": {},
   "outputs": [
    {
     "data": {
      "text/plain": [
       "['creaky', 'NEG']"
      ]
     },
     "execution_count": 69,
     "metadata": {},
     "output_type": "execute_result"
    }
   ],
   "source": [
    "my_tkn('creaky bastard')\n",
    "#print(X_dev[0].decode('utf-8')[:200])\n",
    "#my_tkn(X_dev[0].decode('utf-8'))"
   ]
  },
  {
   "cell_type": "markdown",
   "metadata": {},
   "source": []
  },
  {
   "cell_type": "code",
   "execution_count": 110,
   "metadata": {},
   "outputs": [
    {
     "data": {
      "text/plain": [
       "TfidfVectorizer(analyzer='word', binary=False, decode_error='strict',\n",
       "        dtype=<class 'numpy.int64'>, encoding='utf-8', input='content',\n",
       "        lowercase=True, max_df=1.0, max_features=None, min_df=1,\n",
       "        ngram_range=(1, 1), norm='l2', preprocessor=None, smooth_idf=True,\n",
       "        stop_words=None, strip_accents=None, sublinear_tf=True,\n",
       "        token_pattern='(?u)\\\\b\\\\w\\\\w+\\\\b',\n",
       "        tokenizer=<function my_tkn at 0x7eff3ed09b70>, use_idf=True,\n",
       "        vocabulary=['POS', 'NEG'])"
      ]
     },
     "execution_count": 110,
     "metadata": {},
     "output_type": "execute_result"
    }
   ],
   "source": [
    "#vect = CountVectorizer(vocabulary=['POS', 'NEG'], tokenizer=my_tkn)\n",
    "vect.fit(X_train)"
   ]
  },
  {
   "cell_type": "code",
   "execution_count": 74,
   "metadata": {},
   "outputs": [
    {
     "data": {
      "text/plain": [
       "array([[106, 107],\n",
       "       [ 59,  30],\n",
       "       [ 43,  22],\n",
       "       [ 48,  31],\n",
       "       [ 30,  30],\n",
       "       [ 12,  22],\n",
       "       [ 28,  22],\n",
       "       [ 36,  30],\n",
       "       [ 40,  35],\n",
       "       [ 24,  41]])"
      ]
     },
     "execution_count": 74,
     "metadata": {},
     "output_type": "execute_result"
    }
   ],
   "source": [
    "vect.transform(X_train[:10]).toarray()"
   ]
  },
  {
   "cell_type": "markdown",
   "metadata": {},
   "source": [
    "## Feature Union"
   ]
  },
  {
   "cell_type": "code",
   "execution_count": 116,
   "metadata": {},
   "outputs": [
    {
     "data": {
      "text/plain": [
       "FeatureUnion(n_jobs=1,\n",
       "       transformer_list=[('bow', CountVectorizer(analyzer='word', binary=True, decode_error='strict',\n",
       "        dtype=<class 'numpy.int64'>, encoding='utf-8', input='content',\n",
       "        lowercase=True, max_df=1.0, max_features=None, min_df=1,\n",
       "        ngram_range=(1, 1), preprocessor=None, stop_words=None,\n",
       "    ...   tokenizer=<function my_tkn at 0x7eff3ed09b70>, use_idf=True,\n",
       "        vocabulary=['POS', 'NEG']))],\n",
       "       transformer_weights=None)"
      ]
     },
     "execution_count": 116,
     "metadata": {},
     "output_type": "execute_result"
    }
   ],
   "source": [
    "from sklearn.pipeline import FeatureUnion\n",
    "vect = FeatureUnion([\n",
    "    ('bow', CountVectorizer(binary=True)),\n",
    "    ('pol', TfidfVectorizer(vocabulary=['POS', 'NEG'], tokenizer=my_tkn)),\n",
    "])\n",
    "vect.fit(X_train)"
   ]
  },
  {
   "cell_type": "code",
   "execution_count": 117,
   "metadata": {},
   "outputs": [
    {
     "data": {
      "text/plain": [
       "<1x32424 sparse matrix of type '<class 'numpy.float64'>'\n",
       "\twith 644 stored elements in Compressed Sparse Row format>"
      ]
     },
     "execution_count": 117,
     "metadata": {},
     "output_type": "execute_result"
    }
   ],
   "source": [
    "vect.transform(X_train[:1])"
   ]
  },
  {
   "cell_type": "markdown",
   "metadata": {},
   "source": [
    "## Experimentos"
   ]
  },
  {
   "cell_type": "code",
   "execution_count": 113,
   "metadata": {},
   "outputs": [
    {
     "name": "stdout",
     "output_type": "stream",
     "text": [
      "accuracy\t0.85\n",
      "\n",
      "             precision    recall  f1-score   support\n",
      "\n",
      "        neg       0.85      0.88      0.87       162\n",
      "        pos       0.86      0.82      0.84       138\n",
      "\n",
      "avg / total       0.85      0.85      0.85       300\n",
      "\n",
      "[[143  19]\n",
      " [ 25 113]]\n"
     ]
    }
   ],
   "source": [
    "from sklearn.pipeline import FeatureUnion\n",
    "from sklearn.pipeline import Pipeline\n",
    "from sklearn.feature_extraction.text import CountVectorizer, TfidfVectorizer\n",
    "from sklearn.linear_model import LogisticRegression\n",
    "from util import print_eval\n",
    "\n",
    "pipeline = Pipeline([\n",
    "    ('vect', FeatureUnion([\n",
    "        ('bow', CountVectorizer(binary=True)),\n",
    "        ('pol', TfidfVectorizer(vocabulary=['POS', 'NEG'], tokenizer=my_tkn)),\n",
    "    ])),\n",
    "    ('clf', LogisticRegression(random_state=0)),\n",
    "])\n",
    "pipeline.fit(X_train, y_train)\n",
    "print_eval(pipeline, X_dev, y_dev)"
   ]
  },
  {
   "cell_type": "code",
   "execution_count": 99,
   "metadata": {},
   "outputs": [
    {
     "name": "stdout",
     "output_type": "stream",
     "text": [
      "accuracy\t0.86\n",
      "\n",
      "             precision    recall  f1-score   support\n",
      "\n",
      "        neg       0.85      0.91      0.88       162\n",
      "        pos       0.89      0.80      0.84       138\n",
      "\n",
      "avg / total       0.87      0.86      0.86       300\n",
      "\n",
      "[[148  14]\n",
      " [ 27 111]]\n"
     ]
    }
   ],
   "source": [
    "from sklearn.pipeline import FeatureUnion\n",
    "from sklearn.pipeline import Pipeline\n",
    "from sklearn.feature_extraction.text import CountVectorizer, TfidfVectorizer\n",
    "from sklearn.linear_model import LogisticRegression\n",
    "from util import print_eval\n",
    "\n",
    "pipeline = Pipeline([\n",
    "    ('vect', FeatureUnion([\n",
    "        ('bow', CountVectorizer(\n",
    "            binary=True,\n",
    "            min_df=3,\n",
    "            max_df=0.90,\n",
    "            ngram_range=(1, 5),\n",
    "        )),\n",
    "        ('pol', CountVectorizer(vocabulary=['POS', 'NEG'], tokenizer=my_tkn)),\n",
    "    ])),\n",
    "    ('clf', LogisticRegression(random_state=0)),\n",
    "])\n",
    "pipeline.fit(X_train, y_train)\n",
    "print_eval(pipeline, X_dev, y_dev)"
   ]
  }
 ],
 "metadata": {
  "kernelspec": {
   "display_name": "Python 3",
   "language": "python",
   "name": "python3"
  },
  "language_info": {
   "codemirror_mode": {
    "name": "ipython",
    "version": 3
   },
   "file_extension": ".py",
   "mimetype": "text/x-python",
   "name": "python",
   "nbconvert_exporter": "python",
   "pygments_lexer": "ipython3",
   "version": "3.6.3"
  }
 },
 "nbformat": 4,
 "nbformat_minor": 2
}
