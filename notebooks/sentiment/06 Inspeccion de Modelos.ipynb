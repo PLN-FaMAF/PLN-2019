{
 "cells": [
  {
   "cell_type": "markdown",
   "metadata": {},
   "source": [
    "# Sentiment Analysis: Inspección de Modelos"
   ]
  },
  {
   "cell_type": "code",
   "execution_count": 2,
   "metadata": {},
   "outputs": [],
   "source": [
    "%load_ext autoreload\n",
    "%autoreload 2"
   ]
  },
  {
   "cell_type": "code",
   "execution_count": 3,
   "metadata": {},
   "outputs": [],
   "source": [
    "from util import load_datasets\n",
    "train, dev, test = load_datasets()\n",
    "X_train, y_train = train\n",
    "X_dev, y_dev = dev\n",
    "X_test, y_test = test"
   ]
  },
  {
   "cell_type": "markdown",
   "metadata": {},
   "source": [
    "## Actual Estado del Arte\n",
    "\n",
    "A partir de ahora la construcción del pipeline va en un módulo aparte:"
   ]
  },
  {
   "cell_type": "code",
   "execution_count": 4,
   "metadata": {},
   "outputs": [
    {
     "data": {
      "text/plain": [
       "Pipeline(memory=None,\n",
       "     steps=[('vect', CountVectorizer(analyzer='word', binary=True, decode_error='strict',\n",
       "        dtype=<class 'numpy.int64'>, encoding='utf-8', input='content',\n",
       "        lowercase=True, max_df=0.9, max_features=None, min_df=3,\n",
       "        ngram_range=(1, 5), preprocessor=None, stop_words=None,\n",
       "        strip_...nalty='l2', random_state=0, solver='liblinear', tol=0.0001,\n",
       "          verbose=0, warm_start=False))])"
      ]
     },
     "execution_count": 4,
     "metadata": {},
     "output_type": "execute_result"
    }
   ],
   "source": [
    "from model import build_pipeline\n",
    "\n",
    "pipeline = build_pipeline()\n",
    "pipeline.fit(X_train, y_train)"
   ]
  },
  {
   "cell_type": "code",
   "execution_count": 5,
   "metadata": {},
   "outputs": [
    {
     "name": "stdout",
     "output_type": "stream",
     "text": [
      "accuracy\t0.89\n",
      "\n",
      "             precision    recall  f1-score   support\n",
      "\n",
      "        neg       0.87      0.93      0.90       162\n",
      "        pos       0.91      0.84      0.87       138\n",
      "\n",
      "avg / total       0.89      0.89      0.89       300\n",
      "\n",
      "[[150  12]\n",
      " [ 22 116]]\n"
     ]
    }
   ],
   "source": [
    "from util import print_eval\n",
    "print_eval(pipeline, X_dev, y_dev)"
   ]
  },
  {
   "cell_type": "markdown",
   "metadata": {},
   "source": [
    "## Parámetros del Modelo\n",
    "\n",
    "Inspeccionemos el pipeline:"
   ]
  },
  {
   "cell_type": "code",
   "execution_count": 9,
   "metadata": {},
   "outputs": [
    {
     "data": {
      "text/plain": [
       "[('vect', CountVectorizer(analyzer='word', binary=True, decode_error='strict',\n",
       "          dtype=<class 'numpy.int64'>, encoding='utf-8', input='content',\n",
       "          lowercase=True, max_df=0.9, max_features=None, min_df=3,\n",
       "          ngram_range=(1, 5), preprocessor=None, stop_words=None,\n",
       "          strip_accents=None, token_pattern='(?u)\\\\b\\\\w\\\\w+\\\\b',\n",
       "          tokenizer=None, vocabulary=None)),\n",
       " ('clf',\n",
       "  LogisticRegression(C=1.0, class_weight=None, dual=False, fit_intercept=True,\n",
       "            intercept_scaling=1, max_iter=100, multi_class='ovr', n_jobs=1,\n",
       "            penalty='l2', random_state=0, solver='liblinear', tol=0.0001,\n",
       "            verbose=0, warm_start=False))]"
      ]
     },
     "execution_count": 9,
     "metadata": {},
     "output_type": "execute_result"
    }
   ],
   "source": [
    "pipeline.steps"
   ]
  },
  {
   "cell_type": "code",
   "execution_count": 10,
   "metadata": {},
   "outputs": [],
   "source": [
    "vect = pipeline.named_steps['vect']\n",
    "clf = pipeline.named_steps['clf']"
   ]
  },
  {
   "cell_type": "code",
   "execution_count": 11,
   "metadata": {},
   "outputs": [
    {
     "data": {
      "text/plain": [
       "['00',\n",
       " '00 for',\n",
       " '000',\n",
       " '000 by',\n",
       " '000 for',\n",
       " '000 in',\n",
       " '000 years',\n",
       " '007',\n",
       " '05',\n",
       " '10']"
      ]
     },
     "execution_count": 11,
     "metadata": {},
     "output_type": "execute_result"
    }
   ],
   "source": [
    "features = vect.get_feature_names()\n",
    "len(features)\n",
    "features[:10]"
   ]
  },
  {
   "cell_type": "code",
   "execution_count": 12,
   "metadata": {},
   "outputs": [
    {
     "data": {
      "text/plain": [
       "(1, 77207)"
      ]
     },
     "execution_count": 12,
     "metadata": {},
     "output_type": "execute_result"
    }
   ],
   "source": [
    "# clf?\n",
    "coef = clf.coef_\n",
    "coef.shape"
   ]
  },
  {
   "cell_type": "code",
   "execution_count": 13,
   "metadata": {},
   "outputs": [],
   "source": [
    "import pandas as pd\n",
    "features_df = pd.DataFrame({'name': features, 'coef': coef.ravel()})\n",
    "features_df.sort_values('coef', inplace=True)"
   ]
  },
  {
   "cell_type": "markdown",
   "metadata": {},
   "source": [
    "Vemos los coeficientes que más influyen:"
   ]
  },
  {
   "cell_type": "code",
   "execution_count": 14,
   "metadata": {},
   "outputs": [
    {
     "data": {
      "text/html": [
       "<div>\n",
       "<style scoped>\n",
       "    .dataframe tbody tr th:only-of-type {\n",
       "        vertical-align: middle;\n",
       "    }\n",
       "\n",
       "    .dataframe tbody tr th {\n",
       "        vertical-align: top;\n",
       "    }\n",
       "\n",
       "    .dataframe thead th {\n",
       "        text-align: right;\n",
       "    }\n",
       "</style>\n",
       "<table border=\"1\" class=\"dataframe\">\n",
       "  <thead>\n",
       "    <tr style=\"text-align: right;\">\n",
       "      <th></th>\n",
       "      <th>name</th>\n",
       "      <th>coef</th>\n",
       "    </tr>\n",
       "  </thead>\n",
       "  <tbody>\n",
       "    <tr>\n",
       "      <th>7722</th>\n",
       "      <td>bad</td>\n",
       "      <td>-0.533431</td>\n",
       "    </tr>\n",
       "    <tr>\n",
       "      <th>53202</th>\n",
       "      <td>script</td>\n",
       "      <td>-0.375926</td>\n",
       "    </tr>\n",
       "    <tr>\n",
       "      <th>42856</th>\n",
       "      <td>nothing</td>\n",
       "      <td>-0.363210</td>\n",
       "    </tr>\n",
       "    <tr>\n",
       "      <th>76126</th>\n",
       "      <td>worst</td>\n",
       "      <td>-0.327793</td>\n",
       "    </tr>\n",
       "    <tr>\n",
       "      <th>48721</th>\n",
       "      <td>plot</td>\n",
       "      <td>-0.314007</td>\n",
       "    </tr>\n",
       "    <tr>\n",
       "      <th>9882</th>\n",
       "      <td>boring</td>\n",
       "      <td>-0.295886</td>\n",
       "    </tr>\n",
       "    <tr>\n",
       "      <th>16309</th>\n",
       "      <td>director</td>\n",
       "      <td>-0.275436</td>\n",
       "    </tr>\n",
       "    <tr>\n",
       "      <th>65169</th>\n",
       "      <td>then</td>\n",
       "      <td>-0.262407</td>\n",
       "    </tr>\n",
       "    <tr>\n",
       "      <th>58735</th>\n",
       "      <td>than</td>\n",
       "      <td>-0.257330</td>\n",
       "    </tr>\n",
       "    <tr>\n",
       "      <th>46185</th>\n",
       "      <td>only</td>\n",
       "      <td>-0.248938</td>\n",
       "    </tr>\n",
       "  </tbody>\n",
       "</table>\n",
       "</div>"
      ],
      "text/plain": [
       "           name      coef\n",
       "7722        bad -0.533431\n",
       "53202    script -0.375926\n",
       "42856   nothing -0.363210\n",
       "76126     worst -0.327793\n",
       "48721      plot -0.314007\n",
       "9882     boring -0.295886\n",
       "16309  director -0.275436\n",
       "65169      then -0.262407\n",
       "58735      than -0.257330\n",
       "46185      only -0.248938"
      ]
     },
     "execution_count": 14,
     "metadata": {},
     "output_type": "execute_result"
    }
   ],
   "source": [
    "features_df[:10]"
   ]
  },
  {
   "cell_type": "code",
   "execution_count": 19,
   "metadata": {},
   "outputs": [
    {
     "data": {
      "text/html": [
       "<div>\n",
       "<style scoped>\n",
       "    .dataframe tbody tr th:only-of-type {\n",
       "        vertical-align: middle;\n",
       "    }\n",
       "\n",
       "    .dataframe tbody tr th {\n",
       "        vertical-align: top;\n",
       "    }\n",
       "\n",
       "    .dataframe thead th {\n",
       "        text-align: right;\n",
       "    }\n",
       "</style>\n",
       "<table border=\"1\" class=\"dataframe\">\n",
       "  <thead>\n",
       "    <tr style=\"text-align: right;\">\n",
       "      <th></th>\n",
       "      <th>name</th>\n",
       "      <th>coef</th>\n",
       "    </tr>\n",
       "  </thead>\n",
       "  <tbody>\n",
       "    <tr>\n",
       "      <th>48001</th>\n",
       "      <td>performance</td>\n",
       "      <td>0.228033</td>\n",
       "    </tr>\n",
       "    <tr>\n",
       "      <th>2281</th>\n",
       "      <td>american</td>\n",
       "      <td>0.229602</td>\n",
       "    </tr>\n",
       "    <tr>\n",
       "      <th>48046</th>\n",
       "      <td>performances</td>\n",
       "      <td>0.239935</td>\n",
       "    </tr>\n",
       "    <tr>\n",
       "      <th>46849</th>\n",
       "      <td>others</td>\n",
       "      <td>0.243454</td>\n",
       "    </tr>\n",
       "    <tr>\n",
       "      <th>3694</th>\n",
       "      <td>and it</td>\n",
       "      <td>0.254433</td>\n",
       "    </tr>\n",
       "    <tr>\n",
       "      <th>71572</th>\n",
       "      <td>very</td>\n",
       "      <td>0.255570</td>\n",
       "    </tr>\n",
       "    <tr>\n",
       "      <th>10736</th>\n",
       "      <td>but it</td>\n",
       "      <td>0.257590</td>\n",
       "    </tr>\n",
       "    <tr>\n",
       "      <th>24881</th>\n",
       "      <td>great</td>\n",
       "      <td>0.263341</td>\n",
       "    </tr>\n",
       "    <tr>\n",
       "      <th>38768</th>\n",
       "      <td>many</td>\n",
       "      <td>0.275511</td>\n",
       "    </tr>\n",
       "    <tr>\n",
       "      <th>73155</th>\n",
       "      <td>well</td>\n",
       "      <td>0.304695</td>\n",
       "    </tr>\n",
       "  </tbody>\n",
       "</table>\n",
       "</div>"
      ],
      "text/plain": [
       "               name      coef\n",
       "48001   performance  0.228033\n",
       "2281       american  0.229602\n",
       "48046  performances  0.239935\n",
       "46849        others  0.243454\n",
       "3694         and it  0.254433\n",
       "71572          very  0.255570\n",
       "10736        but it  0.257590\n",
       "24881         great  0.263341\n",
       "38768          many  0.275511\n",
       "73155          well  0.304695"
      ]
     },
     "execution_count": 19,
     "metadata": {},
     "output_type": "execute_result"
    }
   ],
   "source": [
    "features_df[-10:]"
   ]
  },
  {
   "cell_type": "markdown",
   "metadata": {},
   "source": [
    "Interesante. ¿Qué conclusiones se pueden sacar?"
   ]
  },
  {
   "cell_type": "markdown",
   "metadata": {},
   "source": [
    "## Stop Words\n"
   ]
  },
  {
   "cell_type": "code",
   "execution_count": 15,
   "metadata": {},
   "outputs": [
    {
     "name": "stdout",
     "output_type": "stream",
     "text": [
      "accuracy\t0.85\n",
      "\n",
      "             precision    recall  f1-score   support\n",
      "\n",
      "        neg       0.86      0.86      0.86       162\n",
      "        pos       0.84      0.83      0.84       138\n",
      "\n",
      "avg / total       0.85      0.85      0.85       300\n",
      "\n",
      "[[140  22]\n",
      " [ 23 115]]\n"
     ]
    }
   ],
   "source": [
    "from model import build_pipeline\n",
    "from util import print_eval\n",
    "\n",
    "pipeline = build_pipeline()\n",
    "pipeline.set_params(vect__stop_words='english')\n",
    "pipeline.fit(X_train, y_train)\n",
    "print_eval(pipeline, X_dev, y_dev)"
   ]
  },
  {
   "cell_type": "markdown",
   "metadata": {},
   "source": [
    "No mejora. ¿Por qué? Veamos las stopwords:"
   ]
  },
  {
   "cell_type": "code",
   "execution_count": 25,
   "metadata": {},
   "outputs": [],
   "source": [
    "vect = pipeline.named_steps['vect']\n",
    "# vect.get_stop_words()"
   ]
  },
  {
   "cell_type": "markdown",
   "metadata": {},
   "source": [
    "Analicemos los coeficientes del modelo:"
   ]
  },
  {
   "cell_type": "code",
   "execution_count": 16,
   "metadata": {},
   "outputs": [],
   "source": [
    "from analysis import coef_df\n",
    "df = coef_df(pipeline)"
   ]
  },
  {
   "cell_type": "code",
   "execution_count": 17,
   "metadata": {},
   "outputs": [
    {
     "data": {
      "text/html": [
       "<div>\n",
       "<style scoped>\n",
       "    .dataframe tbody tr th:only-of-type {\n",
       "        vertical-align: middle;\n",
       "    }\n",
       "\n",
       "    .dataframe tbody tr th {\n",
       "        vertical-align: top;\n",
       "    }\n",
       "\n",
       "    .dataframe thead th {\n",
       "        text-align: right;\n",
       "    }\n",
       "</style>\n",
       "<table border=\"1\" class=\"dataframe\">\n",
       "  <thead>\n",
       "    <tr style=\"text-align: right;\">\n",
       "      <th></th>\n",
       "      <th>name</th>\n",
       "      <th>coef</th>\n",
       "    </tr>\n",
       "  </thead>\n",
       "  <tbody>\n",
       "    <tr>\n",
       "      <th>1602</th>\n",
       "      <td>bad</td>\n",
       "      <td>-0.821439</td>\n",
       "    </tr>\n",
       "    <tr>\n",
       "      <th>19460</th>\n",
       "      <td>script</td>\n",
       "      <td>-0.609183</td>\n",
       "    </tr>\n",
       "    <tr>\n",
       "      <th>16846</th>\n",
       "      <td>plot</td>\n",
       "      <td>-0.578206</td>\n",
       "    </tr>\n",
       "    <tr>\n",
       "      <th>24360</th>\n",
       "      <td>worst</td>\n",
       "      <td>-0.570389</td>\n",
       "    </tr>\n",
       "    <tr>\n",
       "      <th>2432</th>\n",
       "      <td>boring</td>\n",
       "      <td>-0.532745</td>\n",
       "    </tr>\n",
       "    <tr>\n",
       "      <th>21546</th>\n",
       "      <td>supposed</td>\n",
       "      <td>-0.479266</td>\n",
       "    </tr>\n",
       "    <tr>\n",
       "      <th>14074</th>\n",
       "      <td>maybe</td>\n",
       "      <td>-0.475238</td>\n",
       "    </tr>\n",
       "    <tr>\n",
       "      <th>5681</th>\n",
       "      <td>director</td>\n",
       "      <td>-0.451659</td>\n",
       "    </tr>\n",
       "    <tr>\n",
       "      <th>21327</th>\n",
       "      <td>stupid</td>\n",
       "      <td>-0.417517</td>\n",
       "    </tr>\n",
       "    <tr>\n",
       "      <th>14251</th>\n",
       "      <td>mess</td>\n",
       "      <td>-0.414792</td>\n",
       "    </tr>\n",
       "  </tbody>\n",
       "</table>\n",
       "</div>"
      ],
      "text/plain": [
       "           name      coef\n",
       "1602        bad -0.821439\n",
       "19460    script -0.609183\n",
       "16846      plot -0.578206\n",
       "24360     worst -0.570389\n",
       "2432     boring -0.532745\n",
       "21546  supposed -0.479266\n",
       "14074     maybe -0.475238\n",
       "5681   director -0.451659\n",
       "21327    stupid -0.417517\n",
       "14251      mess -0.414792"
      ]
     },
     "execution_count": 17,
     "metadata": {},
     "output_type": "execute_result"
    }
   ],
   "source": [
    "df[:10]"
   ]
  },
  {
   "cell_type": "code",
   "execution_count": 20,
   "metadata": {},
   "outputs": [
    {
     "data": {
      "text/html": [
       "<div>\n",
       "<style scoped>\n",
       "    .dataframe tbody tr th:only-of-type {\n",
       "        vertical-align: middle;\n",
       "    }\n",
       "\n",
       "    .dataframe tbody tr th {\n",
       "        vertical-align: top;\n",
       "    }\n",
       "\n",
       "    .dataframe thead th {\n",
       "        text-align: right;\n",
       "    }\n",
       "</style>\n",
       "<table border=\"1\" class=\"dataframe\">\n",
       "  <thead>\n",
       "    <tr style=\"text-align: right;\">\n",
       "      <th></th>\n",
       "      <th>name</th>\n",
       "      <th>coef</th>\n",
       "    </tr>\n",
       "  </thead>\n",
       "  <tbody>\n",
       "    <tr>\n",
       "      <th>5218</th>\n",
       "      <td>definitely</td>\n",
       "      <td>0.381941</td>\n",
       "    </tr>\n",
       "    <tr>\n",
       "      <th>9717</th>\n",
       "      <td>great</td>\n",
       "      <td>0.382732</td>\n",
       "    </tr>\n",
       "    <tr>\n",
       "      <th>16455</th>\n",
       "      <td>perfectly</td>\n",
       "      <td>0.389686</td>\n",
       "    </tr>\n",
       "    <tr>\n",
       "      <th>3285</th>\n",
       "      <td>change</td>\n",
       "      <td>0.395888</td>\n",
       "    </tr>\n",
       "    <tr>\n",
       "      <th>903</th>\n",
       "      <td>american</td>\n",
       "      <td>0.397135</td>\n",
       "    </tr>\n",
       "    <tr>\n",
       "      <th>16015</th>\n",
       "      <td>overall</td>\n",
       "      <td>0.401399</td>\n",
       "    </tr>\n",
       "    <tr>\n",
       "      <th>6909</th>\n",
       "      <td>enjoy</td>\n",
       "      <td>0.407785</td>\n",
       "    </tr>\n",
       "    <tr>\n",
       "      <th>16477</th>\n",
       "      <td>performances</td>\n",
       "      <td>0.452292</td>\n",
       "    </tr>\n",
       "    <tr>\n",
       "      <th>10444</th>\n",
       "      <td>hilarious</td>\n",
       "      <td>0.452333</td>\n",
       "    </tr>\n",
       "    <tr>\n",
       "      <th>14191</th>\n",
       "      <td>memorable</td>\n",
       "      <td>0.489459</td>\n",
       "    </tr>\n",
       "  </tbody>\n",
       "</table>\n",
       "</div>"
      ],
      "text/plain": [
       "               name      coef\n",
       "5218     definitely  0.381941\n",
       "9717          great  0.382732\n",
       "16455     perfectly  0.389686\n",
       "3285         change  0.395888\n",
       "903        american  0.397135\n",
       "16015       overall  0.401399\n",
       "6909          enjoy  0.407785\n",
       "16477  performances  0.452292\n",
       "10444     hilarious  0.452333\n",
       "14191     memorable  0.489459"
      ]
     },
     "execution_count": 20,
     "metadata": {},
     "output_type": "execute_result"
    }
   ],
   "source": [
    "df[-10:]"
   ]
  }
 ],
 "metadata": {
  "kernelspec": {
   "display_name": "Python 3",
   "language": "python",
   "name": "python3"
  },
  "language_info": {
   "codemirror_mode": {
    "name": "ipython",
    "version": 3
   },
   "file_extension": ".py",
   "mimetype": "text/x-python",
   "name": "python",
   "nbconvert_exporter": "python",
   "pygments_lexer": "ipython3",
   "version": "3.6.3"
  }
 },
 "nbformat": 4,
 "nbformat_minor": 2
}
